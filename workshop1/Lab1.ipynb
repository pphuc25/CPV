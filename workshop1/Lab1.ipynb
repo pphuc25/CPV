{
 "cells": [
  {
   "cell_type": "code",
   "execution_count": 12,
   "metadata": {
    "collapsed": true
   },
   "outputs": [],
   "source": [
    "import cv2\n",
    "import numpy as np\n",
    "import math"
   ]
  },
  {
   "cell_type": "code",
   "execution_count": 13,
   "outputs": [
    {
     "name": "stdout",
     "output_type": "stream",
     "text": [
      "(113, 73, 529, 170)\n",
      "(102, 255, 517, 332)\n"
     ]
    }
   ],
   "source": [
    "drawing = False\n",
    "ix,iy = -1,-1\n",
    "rectangles = []\n",
    "\n",
    "# define mouse callback function to draw circle\n",
    "def draw_rectangle(event, x, y, flags, param):\n",
    "    global ix, iy, drawing, img\n",
    "    if event == cv2.EVENT_LBUTTONDOWN:\n",
    "        drawing = True\n",
    "        ix = x\n",
    "        iy = y\n",
    "    elif event == cv2.EVENT_LBUTTONUP:\n",
    "        drawing = False\n",
    "        cv2.rectangle(img, (ix, iy),(x, y),(0, 255, 0),-1)\n",
    "        rectangles.append((ix, iy, x, y))\n",
    "        print((ix, iy, x, y))\n",
    "\n",
    "# Create a black image\n",
    "img = np.zeros((512,700,3), np.uint8)\n",
    "img.fill(255)\n",
    "\n",
    "# Create a window and bind the function to window\n",
    "cv2.namedWindow(\"Rectangle Window\")\n",
    "\n",
    "# Connect the mouse button to our callback function\n",
    "cv2.setMouseCallback(\"Rectangle Window\", draw_rectangle)\n",
    "\n",
    "# display the window\n",
    "while True:\n",
    "   cv2.imshow(\"Rectangle Window\", img)\n",
    "   #press q to quit\n",
    "   if cv2.waitKey(10) == ord('q'):\n",
    "    break\n",
    "cv2.destroyAllWindows()"
   ],
   "metadata": {
    "collapsed": false
   }
  },
  {
   "cell_type": "code",
   "execution_count": 14,
   "outputs": [],
   "source": [
    "add_height = int(input('Translation height: '))\n",
    "add_width = int(input('Translation width: '))\n",
    "\n",
    "for ix, iy, x, y in rectangles:\n",
    "    cv2.rectangle(img, (ix, iy),(x, y),(0, 255, 0),-1)\n",
    "    width = y - iy\n",
    "    height = x- ix\n",
    "    image = []\n",
    "\n",
    "    T = np.float32([[1, 0, add_width], [0, 1, add_height]])\n",
    "\n",
    "    # We use warpAffine to transform\n",
    "    # the image using the matrix, T\n",
    "    # img_translation = cv2.warpAffine(image, T, (width, height))\n",
    "    new_image = cv2.rectangle(img, (ix + add_height, iy + add_width),(x + add_height, y + add_width),(255, 0, 0),-1)\n",
    "while True:\n",
    "   cv2.imshow(\"Rectangle Window\", img)\n",
    "   if cv2.waitKey(0) == ord('q'):\n",
    "    break\n",
    "cv2.destroyAllWindows()"
   ],
   "metadata": {
    "collapsed": false
   }
  },
  {
   "cell_type": "code",
   "execution_count": 15,
   "outputs": [],
   "source": [
    "def rotate(points, angle):\n",
    "    ANGLE = np.deg2rad(angle)\n",
    "    c_x, c_y = np.mean(points, axis=0)\n",
    "    return np.array(\n",
    "        [\n",
    "            [\n",
    "                int(c_x + np.cos(ANGLE) * (px - c_x) - np.sin(ANGLE) * (py - c_x)),\n",
    "                int(c_y + np.sin(ANGLE) * (px - c_y) + np.cos(ANGLE) * (py - c_y))\n",
    "            ]\n",
    "            for px, py in points\n",
    "        ]\n",
    "    ).astype(int)"
   ],
   "metadata": {
    "collapsed": false
   }
  },
  {
   "cell_type": "code",
   "execution_count": 16,
   "outputs": [
    {
     "name": "stdout",
     "output_type": "stream",
     "text": [
      "416 97\n",
      "[(113, 73), (529, 73), (529, 170), (113, 170)] [[349  81]\n",
      " [643 375]\n",
      " [574 443]\n",
      " [280 149]]\n",
      "415 77\n",
      "[(102, 255), (517, 255), (517, 332), (102, 332)] [[201 130]\n",
      " [494 424]\n",
      " [440 478]\n",
      " [146 185]]\n"
     ]
    }
   ],
   "source": [
    "angle = int(input('Angle: '))\n",
    "img = np.zeros((512,700,3), np.uint8)\n",
    "img.fill(255)\n",
    "\n",
    "for ix, iy, x, y in rectangles:\n",
    "    cv2.rectangle(img, (ix, iy),(x, y),(0, 255, 0),-1)\n",
    "    width = y - iy\n",
    "    height = x - ix\n",
    "    print(height, width)\n",
    "    image = np.zeros((height, width, 3))\n",
    "    image[:] = (0, 255, 0)\n",
    "    corners = [(ix, iy), (x, iy), (x, y), (ix, y)]\n",
    "    rotate_corners = rotate(corners, angle)\n",
    "    print(corners, rotate_corners)\n",
    "    cv2.drawContours(img, [rotate_corners], 0, (0, 0, 255), -1, cv2.LINE_AA)\n",
    "\n",
    "while True:\n",
    "   cv2.imshow(\"Rotate Rectangle Window\", img)\n",
    "   if cv2.waitKey(10) == ord('q'):\n",
    "    break\n",
    "cv2.destroyAllWindows()"
   ],
   "metadata": {
    "collapsed": false
   }
  },
  {
   "cell_type": "code",
   "execution_count": 6,
   "outputs": [
    {
     "name": "stdout",
     "output_type": "stream",
     "text": [
      "0.4\n",
      "178 111\n",
      "33 108\n",
      "33 108\n",
      "32 49\n",
      "32 49\n",
      "71 44\n"
     ]
    }
   ],
   "source": [
    "scale = int(input('Percent scale: '))\n",
    "scale /= 100\n",
    "print(scale)\n",
    "img = np.zeros((512,700,3), np.uint8)\n",
    "img.fill(255)\n",
    "\n",
    "for ix, iy, x, y in rectangles:\n",
    "    cv2.rectangle(img, (ix, iy),(x, y),(0, 255, 0),-1)\n",
    "    print(width, height)\n",
    "    width = int((y - iy) * scale)\n",
    "    height = int((x- ix) * scale)\n",
    "    print(width, height)\n",
    "\n",
    "\n",
    "    T = np.float32([[1, 0, add_width], [0, 1, add_height]])\n",
    "\n",
    "    # We use warpAffine to transform\n",
    "    # the image using the matrix, T\n",
    "    # img_translation = cv2.warpAffine(image, T, (width, height))\n",
    "    new_image = cv2.rectangle(img, (ix, iy),(ix + height, iy+width),(0, 255, 255),-1)\n",
    "while True:\n",
    "   cv2.imshow(\"Scale Rectangle Window\", img)\n",
    "   if cv2.waitKey(0) == ord('q'):\n",
    "    break\n",
    "cv2.destroyAllWindows()"
   ],
   "metadata": {
    "collapsed": false
   }
  },
  {
   "cell_type": "code",
   "execution_count": 6,
   "outputs": [],
   "source": [],
   "metadata": {
    "collapsed": false
   }
  }
 ],
 "metadata": {
  "kernelspec": {
   "display_name": "Python 3",
   "language": "python",
   "name": "python3"
  },
  "language_info": {
   "codemirror_mode": {
    "name": "ipython",
    "version": 2
   },
   "file_extension": ".py",
   "mimetype": "text/x-python",
   "name": "python",
   "nbconvert_exporter": "python",
   "pygments_lexer": "ipython2",
   "version": "2.7.6"
  }
 },
 "nbformat": 4,
 "nbformat_minor": 0
}
