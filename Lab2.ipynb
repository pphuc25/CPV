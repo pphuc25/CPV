{
 "cells": [
  {
   "cell_type": "code",
   "execution_count": 2,
   "metadata": {
    "collapsed": true
   },
   "outputs": [],
   "source": [
    "import cv2\n",
    "import numpy as np"
   ]
  },
  {
   "cell_type": "code",
   "execution_count": 3,
   "outputs": [],
   "source": [
    "# Function 1: Color balance\n",
    "def color_balance(image, balance_value):\n",
    "    balance_value = balance_value / 100\n",
    "    # Split the image into separate color channels\n",
    "    b, g, r = cv2.split(image)\n",
    "    # Adjust the values of each channel\n",
    "    b = cv2.addWeighted(b, balance_value, np.zeros_like(b), 1 - balance_value, 0)\n",
    "    g = cv2.addWeighted(g, balance_value, np.zeros_like(g), 1 - balance_value, 0)\n",
    "    r = cv2.addWeighted(r, balance_value, np.zeros_like(r), 1 - balance_value, 0)\n",
    "    # Merge the channels back into a single image\n",
    "    return cv2.merge([b, g, r])"
   ],
   "metadata": {
    "collapsed": false
   }
  },
  {
   "cell_type": "code",
   "execution_count": 4,
   "outputs": [
    {
     "name": "stdout",
     "output_type": "stream",
     "text": [
      "1: Color balance\n",
      "2: Show histogram\n",
      "3: Median filter to remove noise in the image\n",
      "4: Mean filter to remove noise in the image\n",
      "5: Gaussian smoothing to perform image smoothing\n"
     ]
    }
   ],
   "source": [
    "if __name__ == '__main__':\n",
    "    print('1: Color balance\\n'\n",
    "          '2: Show histogram\\n'\n",
    "          '3: Median filter to remove noise in the image\\n'\n",
    "          '4: Mean filter to remove noise in the image\\n'\n",
    "          '5: Gaussian smoothing to perform image smoothing'\n",
    "    )\n",
    "\n",
    "    option = int(input('Choose you option(1 - 5): '))\n",
    "    img = cv2.imread('chess.png')\n",
    "    cv2.imshow('Aftet', img)\n",
    "    if option == 1:\n",
    "        balance_value = int(input('Input balance value: '))\n",
    "        # cv2.imshow('Balanced',print(color_balance(img, balance_value)))"
   ],
   "metadata": {
    "collapsed": false
   }
  },
  {
   "cell_type": "code",
   "execution_count": null,
   "outputs": [],
   "source": [],
   "metadata": {
    "collapsed": false
   }
  }
 ],
 "metadata": {
  "kernelspec": {
   "display_name": "Python 3",
   "language": "python",
   "name": "python3"
  },
  "language_info": {
   "codemirror_mode": {
    "name": "ipython",
    "version": 2
   },
   "file_extension": ".py",
   "mimetype": "text/x-python",
   "name": "python",
   "nbconvert_exporter": "python",
   "pygments_lexer": "ipython2",
   "version": "2.7.6"
  }
 },
 "nbformat": 4,
 "nbformat_minor": 0
}
